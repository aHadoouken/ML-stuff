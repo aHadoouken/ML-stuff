{
 "cells": [
  {
   "cell_type": "code",
   "execution_count": 1,
   "metadata": {},
   "outputs": [],
   "source": [
    "import numpy as np\n",
    "import pandas as pd\n",
    "import string\n",
    "import pymorphy2\n",
    "from nltk.corpus import stopwords\n",
    "from scipy.sparse import coo_matrix, hstack\n",
    "import matplotlib.pyplot as plt\n",
    "\n",
    "from sklearn.feature_extraction.text import CountVectorizer\n",
    "from sklearn.naive_bayes import MultinomialNB\n",
    "from sklearn.linear_model import LogisticRegression\n",
    "from sklearn.model_selection import train_test_split\n",
    "from sklearn.ensemble import RandomForestClassifier, VotingClassifier\n",
    "from lightgbm import LGBMClassifier\n",
    "from sklearn.linear_model import SGDClassifier\n",
    "from scipy import sparse\n",
    "\n",
    "from sklearn.metrics import f1_score"
   ]
  },
  {
   "cell_type": "code",
   "execution_count": 2,
   "metadata": {},
   "outputs": [
    {
     "data": {
      "text/plain": [
       "(165378, 3)"
      ]
     },
     "execution_count": 2,
     "metadata": {},
     "output_type": "execute_result"
    }
   ],
   "source": [
    "train_df = pd.read_csv(\"train.csv\")\n",
    "test_df = pd.read_csv(\"test.csv\")\n",
    "\n",
    "test_df.shape"
   ]
  },
  {
   "cell_type": "markdown",
   "metadata": {},
   "source": [
    "Смотрим на гистограммы распределения количества слов в заголовке"
   ]
  },
  {
   "cell_type": "code",
   "execution_count": 3,
   "metadata": {},
   "outputs": [
    {
     "data": {
      "image/png": "[encoded data removed]",
      "text/plain": [
       "<Figure size 432x288 with 1 Axes>"
      ]
     },
     "metadata": {
      "needs_background": "light"
     },
     "output_type": "display_data"
    }
   ],
   "source": [
    "len1 = train_df.loc[train_df['target'] == True, 'title'].str.len().values\n",
    "len2 = train_df.loc[train_df['target'] == False, 'title'].str.len().values\n",
    "bins=100\n",
    "alpha=0.5\n",
    "\n",
    "plt.hist(len1, alpha=alpha, bins=bins, label=r'$y = 0$')\n",
    "plt.hist(len2, alpha=alpha, bins=bins, label=r'$y = 1$')\n",
    "plt.legend();"
   ]
  },
  {
   "cell_type": "markdown",
   "metadata": {},
   "source": [
    "Убираем дублирующиеся строки, убираем пунктуацию и символы"
   ]
  },
  {
   "cell_type": "code",
   "execution_count": 4,
   "metadata": {},
   "outputs": [],
   "source": [
    "train_df = train_df.drop_duplicates()\n",
    "\n",
    "train_df_cl = train_df.copy()\n",
    "test_df_cl = test_df.copy()\n",
    "\n",
    "train_df_cl[\"title\"] = train_df_cl[\"title\"].astype(str)\n",
    "test_df_cl[\"title\"] = test_df_cl[\"title\"].astype(str)\n",
    "\n",
    "train_df_cl[\"title\"] = train_df_cl[\"title\"].str.lower()\n",
    "test_df_cl[\"title\"] = test_df_cl[\"title\"].str.lower()\n",
    "\n",
    "PUNCT_TO_REMOVE = string.punctuation + '1234567890«»—�'\n",
    "def remove_punctuation(text):\n",
    "    return text.translate(str.maketrans(PUNCT_TO_REMOVE, ' '*len(PUNCT_TO_REMOVE)))\n",
    "\n",
    "train_df_cl[\"title\"] = train_df_cl[\"title\"].apply(lambda text: remove_punctuation(text))\n",
    "test_df_cl[\"title\"] = test_df_cl[\"title\"].apply(lambda text: remove_punctuation(text))\n"
   ]
  },
  {
   "cell_type": "markdown",
   "metadata": {},
   "source": [
    "Убираем наблюдения с малым количеством символов"
   ]
  },
  {
   "cell_type": "code",
   "execution_count": 5,
   "metadata": {},
   "outputs": [
    {
     "data": {
      "text/plain": [
       "(128845, 4)"
      ]
     },
     "execution_count": 5,
     "metadata": {},
     "output_type": "execute_result"
    }
   ],
   "source": [
    "train_df_cl = train_df_cl.loc[train_df_cl['title'].str.split().str.len() > 2]\n",
    "\n",
    "train_df_cl.shape"
   ]
  },
  {
   "cell_type": "markdown",
   "metadata": {},
   "source": [
    "Удаляем стоп слова"
   ]
  },
  {
   "cell_type": "code",
   "execution_count": 6,
   "metadata": {},
   "outputs": [
    {
     "data": {
      "text/html": [
       "<div>\n",
       "<style scoped>\n",
       "    .dataframe tbody tr th:only-of-type {\n",
       "        vertical-align: middle;\n",
       "    }\n",
       "\n",
       "    .dataframe tbody tr th {\n",
       "        vertical-align: top;\n",
       "    }\n",
       "\n",
       "    .dataframe thead th {\n",
       "        text-align: right;\n",
       "    }\n",
       "</style>\n",
       "<table border=\"1\" class=\"dataframe\">\n",
       "  <thead>\n",
       "    <tr style=\"text-align: right;\">\n",
       "      <th></th>\n",
       "      <th>id</th>\n",
       "      <th>url</th>\n",
       "      <th>title</th>\n",
       "      <th>target</th>\n",
       "    </tr>\n",
       "  </thead>\n",
       "  <tbody>\n",
       "    <tr>\n",
       "      <th>0</th>\n",
       "      <td>0</td>\n",
       "      <td>m.kp.md</td>\n",
       "      <td>экс министр экономики молдовы главе мидэи цель...</td>\n",
       "      <td>False</td>\n",
       "    </tr>\n",
       "    <tr>\n",
       "      <th>1</th>\n",
       "      <td>1</td>\n",
       "      <td>www.kp.by</td>\n",
       "      <td>эта песня стала известна многим телезрителям б...</td>\n",
       "      <td>False</td>\n",
       "    </tr>\n",
       "    <tr>\n",
       "      <th>2</th>\n",
       "      <td>2</td>\n",
       "      <td>fanserials.tv</td>\n",
       "      <td>банши сезон серия бремя красоты смотреть онлайн</td>\n",
       "      <td>False</td>\n",
       "    </tr>\n",
       "    <tr>\n",
       "      <th>3</th>\n",
       "      <td>3</td>\n",
       "      <td>colorbox.spb.ru</td>\n",
       "      <td>беси картинки</td>\n",
       "      <td>False</td>\n",
       "    </tr>\n",
       "    <tr>\n",
       "      <th>4</th>\n",
       "      <td>4</td>\n",
       "      <td>tula-sport.ru</td>\n",
       "      <td>новомосковске сыграют следж хоккеисты алексинс...</td>\n",
       "      <td>False</td>\n",
       "    </tr>\n",
       "  </tbody>\n",
       "</table>\n",
       "</div>"
      ],
      "text/plain": [
       "   id              url                                              title  \\\n",
       "0   0          m.kp.md  экс министр экономики молдовы главе мидэи цель...   \n",
       "1   1        www.kp.by  эта песня стала известна многим телезрителям б...   \n",
       "2   2    fanserials.tv    банши сезон серия бремя красоты смотреть онлайн   \n",
       "3   3  colorbox.spb.ru                                      беси картинки   \n",
       "4   4    tula-sport.ru  новомосковске сыграют следж хоккеисты алексинс...   \n",
       "\n",
       "   target  \n",
       "0   False  \n",
       "1   False  \n",
       "2   False  \n",
       "3   False  \n",
       "4   False  "
      ]
     },
     "execution_count": 6,
     "metadata": {},
     "output_type": "execute_result"
    }
   ],
   "source": [
    "mystopwords = stopwords.words('russian') + stopwords.words('english')\n",
    "\n",
    "def  remove_stopwords(text, mystopwords = mystopwords):\n",
    "    try:\n",
    "        return u\" \".join([token for token in text.split() if not token in mystopwords])\n",
    "    except:\n",
    "        return u\"\"\n",
    "    \n",
    "train_df_cl.title = train_df_cl.title.apply(remove_stopwords)\n",
    "test_df_cl.title = test_df_cl.title.apply(remove_stopwords)\n",
    "train_df_cl.head()"
   ]
  },
  {
   "cell_type": "markdown",
   "metadata": {},
   "source": [
    "Лемматизируем русские слова"
   ]
  },
  {
   "cell_type": "code",
   "execution_count": 7,
   "metadata": {},
   "outputs": [],
   "source": [
    "lemmatizer = pymorphy2.MorphAnalyzer()\n",
    "\n",
    "lemmatizer_cache = {}\n",
    "def lem_text(text):\n",
    "    return ' '.join([lem_token(token) for token in text.split()])\n",
    "\n",
    "def lem_token(token):\n",
    "    if lemmatizer.word_is_known(token):\n",
    "        if token not in lemmatizer_cache:\n",
    "            lemmatizer_cache[token] = lemmatizer.parse(token)[0].normal_form\n",
    "        return lemmatizer_cache[token]\n",
    "    return token\n",
    "\n",
    "train_df_cl.title = train_df_cl.title.apply(lem_text)\n",
    "test_df_cl.title = test_df_cl.title.apply(lem_text)"
   ]
  },
  {
   "cell_type": "markdown",
   "metadata": {},
   "source": [
    "Разделяем url по точке"
   ]
  },
  {
   "cell_type": "code",
   "execution_count": 8,
   "metadata": {},
   "outputs": [],
   "source": [
    "def split_url(text):\n",
    "    return ' '.join(text.split('.'))\n",
    "\n",
    "train_df_cl.url = train_df_cl.url.apply(split_url)\n",
    "test_df_cl.url = test_df_cl.url.apply(split_url)"
   ]
  },
  {
   "cell_type": "code",
   "execution_count": 9,
   "metadata": {},
   "outputs": [],
   "source": [
    "X_train_title = train_df_cl[\"title\"].values\n",
    "X_train_url = train_df_cl[\"url\"].values\n",
    "X_test_title = test_df_cl[\"title\"].values\n",
    "X_test_url = test_df_cl[\"url\"].values\n",
    "y_train = train_df_cl[\"target\"].astype(int).values"
   ]
  },
  {
   "cell_type": "markdown",
   "metadata": {},
   "source": [
    "# ML baseline"
   ]
  },
  {
   "cell_type": "code",
   "execution_count": 16,
   "metadata": {},
   "outputs": [],
   "source": [
    "# Инициализируем векторизаторы для заголовка и url\n",
    "vectorizer1 = CountVectorizer(ngram_range=(1,2), min_df=2, binary=True)\n",
    "vectorizer2 = CountVectorizer(ngram_range=(1,3), min_df=2, binary=False, analyzer='char')\n",
    "\n",
    "# Инициализируем логистическую регрессию\n",
    "model1 = LogisticRegression(max_iter=500, solver='liblinear', class_weight='balanced',C = 100)"
   ]
  },
  {
   "cell_type": "markdown",
   "metadata": {},
   "source": [
    "Разделяем тренировочный сет и векторизуем "
   ]
  },
  {
   "cell_type": "code",
   "execution_count": 17,
   "metadata": {},
   "outputs": [],
   "source": [
    "X_train1, X_test1, y_train1, y_test1 = train_test_split(X_train_title, y_train, test_size=0.3, random_state=42)\n",
    "X_train2, X_test2, y_train2, y_test2 = train_test_split(X_train_url, y_train, test_size=0.3, random_state=42)\n",
    "\n",
    "X_train1_vectorized = vectorizer1.fit_transform(X_train1)\n",
    "X_train2_vectorized = vectorizer2.fit_transform(X_train2)\n",
    "\n",
    "X_train_vectorized = hstack([X_train1_vectorized, X_train2_vectorized])\n",
    "\n",
    "X_test1_vectorized = vectorizer1.transform(X_test1)\n",
    "X_test2_vectorized = vectorizer2.transform(X_test2)\n",
    "\n",
    "X_test_vectorized = hstack([X_test1_vectorized, X_test2_vectorized])\n",
    "\n",
    "X_test1_vectorized_sub = vectorizer1.transform(X_test_title)\n",
    "X_test2_vectorized_sub = vectorizer2.transform(X_test_url)\n",
    "\n",
    "X_test_vectorized_sub = hstack([X_test1_vectorized_sub, X_test2_vectorized_sub])"
   ]
  },
  {
   "cell_type": "markdown",
   "metadata": {},
   "source": [
    "Фитируем логистическую регрессию"
   ]
  },
  {
   "cell_type": "code",
   "execution_count": 18,
   "metadata": {},
   "outputs": [
    {
     "name": "stdout",
     "output_type": "stream",
     "text": [
      "Wall time: 4.11 s\n"
     ]
    },
    {
     "data": {
      "text/plain": [
       "0.980521488199526"
      ]
     },
     "execution_count": 18,
     "metadata": {},
     "output_type": "execute_result"
    }
   ],
   "source": [
    "%%time\n",
    "\n",
    "model1.fit(\n",
    "    X_train_vectorized,\n",
    "    y_train1\n",
    ")\n",
    "\n",
    "y_pred = model1.predict(\n",
    "    X_test_vectorized\n",
    ")\n",
    "f1_score(y_test1, y_pred)"
   ]
  },
  {
   "cell_type": "markdown",
   "metadata": {},
   "source": [
    "Определяем классификаторы для голосования"
   ]
  },
  {
   "cell_type": "code",
   "execution_count": 19,
   "metadata": {},
   "outputs": [],
   "source": [
    "RF = RandomForestClassifier(n_estimators=30, n_jobs=-1, bootstrap=True,\n",
    "                            warm_start=False, max_features='auto', criterion='entropy',\n",
    "                           min_samples_split=2, min_samples_leaf=1, random_state=32, class_weight='balanced')\n",
    "LGBM = LGBMClassifier(learning_rate=0.08, n_estimators=100)\n",
    "SGD = SGDClassifier(class_weight='balanced')"
   ]
  },
  {
   "cell_type": "markdown",
   "metadata": {},
   "source": [
    "# ГОЛОСОВАНИЕ!\n",
    "добавляем в качестве признака пробу логистической регрессии"
   ]
  },
  {
   "cell_type": "code",
   "execution_count": 20,
   "metadata": {},
   "outputs": [
    {
     "name": "stderr",
     "output_type": "stream",
     "text": [
      "c:\\users\\alexa\\appdata\\local\\programs\\python\\python38\\lib\\site-packages\\lightgbm\\basic.py:597: UserWarning: Converting data to scipy sparse matrix.\n",
      "  warnings.warn('Converting data to scipy sparse matrix.')\n"
     ]
    },
    {
     "name": "stdout",
     "output_type": "stream",
     "text": [
      "0.9805794994288088\n"
     ]
    },
    {
     "data": {
      "text/plain": [
       "0.9997822015071656"
      ]
     },
     "execution_count": 20,
     "metadata": {},
     "output_type": "execute_result"
    }
   ],
   "source": [
    "VC = VotingClassifier(estimators=[\n",
    "    ('SGDC', SGD), ('rf', RF), ('LGBM', LGBM)], voting='hard')\n",
    "\n",
    "VC.fit(\n",
    "    hstack([X_train_vectorized, model1.predict_proba(X_train_vectorized)]).astype(np.float32),\n",
    "    y_train1\n",
    ")\n",
    "\n",
    "y_pred = VC.predict(\n",
    "    hstack([X_test_vectorized, model1.predict_proba(X_test_vectorized)]).astype(np.float32)\n",
    ")\n",
    "print(f1_score(y_test1, y_pred))\n",
    "\n",
    "y_pred = VC.predict(\n",
    "    hstack([X_train_vectorized, model1.predict_proba(X_train_vectorized)]).astype(np.float32)\n",
    ")\n",
    "f1_score(y_train1, y_pred)"
   ]
  },
  {
   "cell_type": "markdown",
   "metadata": {},
   "source": [
    "### Submit"
   ]
  },
  {
   "cell_type": "code",
   "execution_count": 89,
   "metadata": {},
   "outputs": [],
   "source": [
    "test_df[\"target\"] = VC.predict(hstack([X_test_vectorized_sub, model1.predict_proba(X_test_vectorized_sub)])).astype(bool)\n",
    "\n",
    "test_df[[\"id\", \"target\"]].to_csv(\"ml_baseline.csv\", index=False)"
   ]
  }
 ],
 "metadata": {
  "kernelspec": {
   "display_name": "Python 3",
   "language": "python",
   "name": "python3"
  },
  "language_info": {
   "codemirror_mode": {
    "name": "ipython",
    "version": 3
   },
   "file_extension": ".py",
   "mimetype": "text/x-python",
   "name": "python",
   "nbconvert_exporter": "python",
   "pygments_lexer": "ipython3",
   "version": "3.8.5"
  }
 },
 "nbformat": 4,
 "nbformat_minor": 2
}
